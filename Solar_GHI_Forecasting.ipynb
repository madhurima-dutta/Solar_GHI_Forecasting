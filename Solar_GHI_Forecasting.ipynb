{
 "cells": [
  {
   "cell_type": "code",
   "execution_count": 646,
   "id": "324bcf35-f53a-4414-9454-90c388f6ab3e",
   "metadata": {},
   "outputs": [],
   "source": [
    "import pandas as pd\n",
    "import numpy as np\n",
    "\n",
    "# Load datasets\n",
    "train = pd.read_csv(r\"C:\\Users\\Saptarshi\\Downloads\\solar-ghi-forecasting\\scripts\\Train_Dataset.csv\", parse_dates=['timestamp'])\n",
    "test = pd.read_csv(r\"C:\\Users\\Saptarshi\\Downloads\\solar-ghi-forecasting\\scripts\\Test_Dataset.csv\", parse_dates=['timestamp'])"
   ]
  },
  {
   "cell_type": "markdown",
   "id": "386a6fe5-8b35-4836-8edf-7495d8886c5e",
   "metadata": {},
   "source": [
    "## Data Analysis"
   ]
  },
  {
   "cell_type": "code",
   "execution_count": 647,
   "id": "4c70a27a-3969-4bb3-b5ab-9a29d093061f",
   "metadata": {},
   "outputs": [
    {
     "name": "stdout",
     "output_type": "stream",
     "text": [
      "(2206, 23)\n"
     ]
    }
   ],
   "source": [
    "print(train.shape)"
   ]
  },
  {
   "cell_type": "code",
   "execution_count": 648,
   "id": "e25c6961-73b2-41c1-8cb3-9d56be33edaa",
   "metadata": {},
   "outputs": [
    {
     "name": "stdout",
     "output_type": "stream",
     "text": [
      "      Unnamed: 0           timestamp  irradiance_global_reference  \\\n",
      "2181      2181.0 2024-12-30 23:00:00                          0.2   \n",
      "2182         NaN                 NaT                          NaN   \n",
      "2183         NaN                 NaT                          NaN   \n",
      "2184         NaN                 NaT                          NaN   \n",
      "2185         NaN                 NaT                          NaN   \n",
      "2186         NaN                 NaT                          NaN   \n",
      "2187         NaN                 NaT                          NaN   \n",
      "2188         NaN                 NaT                          NaN   \n",
      "2189         NaN                 NaT                          NaN   \n",
      "2190         NaN                 NaT                          NaN   \n",
      "2191         NaN                 NaT                          NaN   \n",
      "2192         NaN                 NaT                          NaN   \n",
      "2193         NaN                 NaT                          NaN   \n",
      "2194         NaN                 NaT                          NaN   \n",
      "2195         NaN                 NaT                          NaN   \n",
      "2196         NaN                 NaT                          NaN   \n",
      "2197         NaN                 NaT                          NaN   \n",
      "2198         NaN                 NaT                          NaN   \n",
      "2199         NaN                 NaT                          NaN   \n",
      "2200         NaN                 NaT                          NaN   \n",
      "2201         NaN                 NaT                          NaN   \n",
      "2202         NaN                 NaT                          NaN   \n",
      "2203         NaN                 NaT                          NaN   \n",
      "2204         NaN                 NaT                          NaN   \n",
      "2205         NaN                 NaT                          NaN   \n",
      "\n",
      "      irradiance_horizontal  module_temperature_1  module_temperature_2  \\\n",
      "2181                    0.2              24.22453             24.942705   \n",
      "2182                    NaN                   NaN                   NaN   \n",
      "2183                    NaN                   NaN                   NaN   \n",
      "2184                    NaN                   NaN                   NaN   \n",
      "2185                    NaN                   NaN                   NaN   \n",
      "2186                    NaN                   NaN                   NaN   \n",
      "2187                    NaN                   NaN                   NaN   \n",
      "2188                    NaN                   NaN                   NaN   \n",
      "2189                    NaN                   NaN                   NaN   \n",
      "2190                    NaN                   NaN                   NaN   \n",
      "2191                    NaN                   NaN                   NaN   \n",
      "2192                    NaN                   NaN                   NaN   \n",
      "2193                    NaN                   NaN                   NaN   \n",
      "2194                    NaN                   NaN                   NaN   \n",
      "2195                    NaN                   NaN                   NaN   \n",
      "2196                    NaN                   NaN                   NaN   \n",
      "2197                    NaN                   NaN                   NaN   \n",
      "2198                    NaN                   NaN                   NaN   \n",
      "2199                    NaN                   NaN                   NaN   \n",
      "2200                    NaN                   NaN                   NaN   \n",
      "2201                    NaN                   NaN                   NaN   \n",
      "2202                    NaN                   NaN                   NaN   \n",
      "2203                    NaN                   NaN                   NaN   \n",
      "2204                    NaN                   NaN                   NaN   \n",
      "2205                    NaN                   NaN                   NaN   \n",
      "\n",
      "      module_temperature_3  wind_direction  relative_humidity  \\\n",
      "2181           -169.751229      170.961473          99.998032   \n",
      "2182                   NaN             NaN                NaN   \n",
      "2183                   NaN             NaN                NaN   \n",
      "2184                   NaN             NaN                NaN   \n",
      "2185                   NaN             NaN                NaN   \n",
      "2186                   NaN             NaN                NaN   \n",
      "2187                   NaN             NaN                NaN   \n",
      "2188                   NaN             NaN                NaN   \n",
      "2189                   NaN             NaN                NaN   \n",
      "2190                   NaN             NaN                NaN   \n",
      "2191                   NaN             NaN                NaN   \n",
      "2192                   NaN             NaN                NaN   \n",
      "2193                   NaN             NaN                NaN   \n",
      "2194                   NaN             NaN                NaN   \n",
      "2195                   NaN             NaN                NaN   \n",
      "2196                   NaN             NaN                NaN   \n",
      "2197                   NaN             NaN                NaN   \n",
      "2198                   NaN             NaN                NaN   \n",
      "2199                   NaN             NaN                NaN   \n",
      "2200                   NaN             NaN                NaN   \n",
      "2201                   NaN             NaN                NaN   \n",
      "2202                   NaN             NaN                NaN   \n",
      "2203                   NaN             NaN                NaN   \n",
      "2204                   NaN             NaN                NaN   \n",
      "2205                   NaN             NaN                NaN   \n",
      "\n",
      "      horizontal_radiation_1  ...  incident_radiation_2  incident_radiation_4  \\\n",
      "2181                0.008333  ...                   0.0                   0.0   \n",
      "2182                     NaN  ...                   NaN                   NaN   \n",
      "2183                     NaN  ...                   NaN                   NaN   \n",
      "2184                     NaN  ...                   NaN                   NaN   \n",
      "2185                     NaN  ...                   NaN                   NaN   \n",
      "2186                     NaN  ...                   NaN                   NaN   \n",
      "2187                     NaN  ...                   NaN                   NaN   \n",
      "2188                     NaN  ...                   NaN                   NaN   \n",
      "2189                     NaN  ...                   NaN                   NaN   \n",
      "2190                     NaN  ...                   NaN                   NaN   \n",
      "2191                     NaN  ...                   NaN                   NaN   \n",
      "2192                     NaN  ...                   NaN                   NaN   \n",
      "2193                     NaN  ...                   NaN                   NaN   \n",
      "2194                     NaN  ...                   NaN                   NaN   \n",
      "2195                     NaN  ...                   NaN                   NaN   \n",
      "2196                     NaN  ...                   NaN                   NaN   \n",
      "2197                     NaN  ...                   NaN                   NaN   \n",
      "2198                     NaN  ...                   NaN                   NaN   \n",
      "2199                     NaN  ...                   NaN                   NaN   \n",
      "2200                     NaN  ...                   NaN                   NaN   \n",
      "2201                     NaN  ...                   NaN                   NaN   \n",
      "2202                     NaN  ...                   NaN                   NaN   \n",
      "2203                     NaN  ...                   NaN                   NaN   \n",
      "2204                     NaN  ...                   NaN                   NaN   \n",
      "2205                     NaN  ...                   NaN                   NaN   \n",
      "\n",
      "      incident_radiation_3  reflected_radiation_1  reflected_radiation_2  \\\n",
      "2181                   0.0                    0.2                    0.0   \n",
      "2182                   NaN                    NaN                    NaN   \n",
      "2183                   NaN                    NaN                    NaN   \n",
      "2184                   NaN                    NaN                    NaN   \n",
      "2185                   NaN                    NaN                    NaN   \n",
      "2186                   NaN                    NaN                    NaN   \n",
      "2187                   NaN                    NaN                    NaN   \n",
      "2188                   NaN                    NaN                    NaN   \n",
      "2189                   NaN                    NaN                    NaN   \n",
      "2190                   NaN                    NaN                    NaN   \n",
      "2191                   NaN                    NaN                    NaN   \n",
      "2192                   NaN                    NaN                    NaN   \n",
      "2193                   NaN                    NaN                    NaN   \n",
      "2194                   NaN                    NaN                    NaN   \n",
      "2195                   NaN                    NaN                    NaN   \n",
      "2196                   NaN                    NaN                    NaN   \n",
      "2197                   NaN                    NaN                    NaN   \n",
      "2198                   NaN                    NaN                    NaN   \n",
      "2199                   NaN                    NaN                    NaN   \n",
      "2200                   NaN                    NaN                    NaN   \n",
      "2201                   NaN                    NaN                    NaN   \n",
      "2202                   NaN                    NaN                    NaN   \n",
      "2203                   NaN                    NaN                    NaN   \n",
      "2204                   NaN                    NaN                    NaN   \n",
      "2205                   NaN                    NaN                    NaN   \n",
      "\n",
      "      reflected_radiation_4  reflected_radiation_3  ambient_temperature  \\\n",
      "2181                    0.0                    0.0            25.473165   \n",
      "2182                    NaN                    NaN                  NaN   \n",
      "2183                    NaN                    NaN                  NaN   \n",
      "2184                    NaN                    NaN                  NaN   \n",
      "2185                    NaN                    NaN                  NaN   \n",
      "2186                    NaN                    NaN                  NaN   \n",
      "2187                    NaN                    NaN                  NaN   \n",
      "2188                    NaN                    NaN                  NaN   \n",
      "2189                    NaN                    NaN                  NaN   \n",
      "2190                    NaN                    NaN                  NaN   \n",
      "2191                    NaN                    NaN                  NaN   \n",
      "2192                    NaN                    NaN                  NaN   \n",
      "2193                    NaN                    NaN                  NaN   \n",
      "2194                    NaN                    NaN                  NaN   \n",
      "2195                    NaN                    NaN                  NaN   \n",
      "2196                    NaN                    NaN                  NaN   \n",
      "2197                    NaN                    NaN                  NaN   \n",
      "2198                    NaN                    NaN                  NaN   \n",
      "2199                    NaN                    NaN                  NaN   \n",
      "2200                    NaN                    NaN                  NaN   \n",
      "2201                    NaN                    NaN                  NaN   \n",
      "2202                    NaN                    NaN                  NaN   \n",
      "2203                    NaN                    NaN                  NaN   \n",
      "2204                    NaN                    NaN                  NaN   \n",
      "2205                    NaN                    NaN                  NaN   \n",
      "\n",
      "      wind_speed  ghi  \n",
      "2181    2.665102  0.0  \n",
      "2182         NaN  NaN  \n",
      "2183         NaN  NaN  \n",
      "2184         NaN  NaN  \n",
      "2185         NaN  NaN  \n",
      "2186         NaN  NaN  \n",
      "2187         NaN  NaN  \n",
      "2188         NaN  NaN  \n",
      "2189         NaN  NaN  \n",
      "2190         NaN  NaN  \n",
      "2191         NaN  NaN  \n",
      "2192         NaN  NaN  \n",
      "2193         NaN  NaN  \n",
      "2194         NaN  NaN  \n",
      "2195         NaN  NaN  \n",
      "2196         NaN  NaN  \n",
      "2197         NaN  NaN  \n",
      "2198         NaN  NaN  \n",
      "2199         NaN  NaN  \n",
      "2200         NaN  NaN  \n",
      "2201         NaN  NaN  \n",
      "2202         NaN  NaN  \n",
      "2203         NaN  NaN  \n",
      "2204         NaN  NaN  \n",
      "2205         NaN  NaN  \n",
      "\n",
      "[25 rows x 23 columns]\n"
     ]
    }
   ],
   "source": [
    "print(train.tail(25))  "
   ]
  },
  {
   "cell_type": "code",
   "execution_count": 649,
   "id": "5beffaf1-8442-4502-a93d-9fc8ee6dee66",
   "metadata": {},
   "outputs": [],
   "source": [
    "train = train.dropna(how='all')"
   ]
  },
  {
   "cell_type": "code",
   "execution_count": 650,
   "id": "dbb91ae0-9ead-42be-a884-cbd707f1f177",
   "metadata": {},
   "outputs": [
    {
     "name": "stdout",
     "output_type": "stream",
     "text": [
      "(2182, 23)\n"
     ]
    }
   ],
   "source": [
    "print(train.shape)"
   ]
  },
  {
   "cell_type": "code",
   "execution_count": 651,
   "id": "a8b58d58-edad-46ef-83db-bbd3641ea451",
   "metadata": {},
   "outputs": [
    {
     "name": "stdout",
     "output_type": "stream",
     "text": [
      "<class 'pandas.core.frame.DataFrame'>\n",
      "Index: 2182 entries, 0 to 2181\n",
      "Data columns (total 23 columns):\n",
      " #   Column                       Non-Null Count  Dtype         \n",
      "---  ------                       --------------  -----         \n",
      " 0   Unnamed: 0                   2182 non-null   float64       \n",
      " 1   timestamp                    2182 non-null   datetime64[ns]\n",
      " 2   irradiance_global_reference  2182 non-null   float64       \n",
      " 3   irradiance_horizontal        2182 non-null   float64       \n",
      " 4   module_temperature_1         2166 non-null   float64       \n",
      " 5   module_temperature_2         2155 non-null   float64       \n",
      " 6   module_temperature_3         2150 non-null   float64       \n",
      " 7   wind_direction               2182 non-null   float64       \n",
      " 8   relative_humidity            2182 non-null   float64       \n",
      " 9   horizontal_radiation_1       2182 non-null   float64       \n",
      " 10  horizontal_radiation_2       9 non-null      float64       \n",
      " 11  horizontal_radiation_3       1331 non-null   float64       \n",
      " 12  incident_radiation_1         2182 non-null   float64       \n",
      " 13  incident_radiation_2         744 non-null    float64       \n",
      " 14  incident_radiation_4         2155 non-null   float64       \n",
      " 15  incident_radiation_3         1331 non-null   float64       \n",
      " 16  reflected_radiation_1        2182 non-null   float64       \n",
      " 17  reflected_radiation_2        745 non-null    float64       \n",
      " 18  reflected_radiation_4        2155 non-null   float64       \n",
      " 19  reflected_radiation_3        1331 non-null   float64       \n",
      " 20  ambient_temperature          2182 non-null   float64       \n",
      " 21  wind_speed                   2182 non-null   float64       \n",
      " 22  ghi                          2182 non-null   float64       \n",
      "dtypes: datetime64[ns](1), float64(22)\n",
      "memory usage: 409.1 KB\n",
      "None\n"
     ]
    }
   ],
   "source": [
    "print(train.info())"
   ]
  },
  {
   "cell_type": "markdown",
   "id": "7c0389a1-ab9e-4314-a7fc-7af6992a7be5",
   "metadata": {},
   "source": [
    "### This shows that the following columns contain null values :\n",
    "1. module_temperature_1\n",
    "2. module_temperature_2\n",
    "3. module_temperature_3\n",
    "4. horizontal_radiation_2 \n",
    "5. horizontal_radiation_3\n",
    "6. incident_radiation_2\n",
    "7. incident_radiation_3 \n",
    "8. incident_radiation_4\n",
    "9. reflected_radiation_2\n",
    "10. reflected_radiation_3\n",
    "11. reflected_radiation_4"
   ]
  },
  {
   "cell_type": "code",
   "execution_count": 652,
   "id": "c23b0c34-0fc4-4bab-a654-21e658086963",
   "metadata": {},
   "outputs": [
    {
     "name": "stdout",
     "output_type": "stream",
     "text": [
      "['Unnamed: 0', 'timestamp', 'irradiance_global_reference', 'irradiance_horizontal', 'module_temperature_1', 'module_temperature_2', 'module_temperature_3', 'wind_direction', 'relative_humidity', 'horizontal_radiation_1', 'horizontal_radiation_2', 'horizontal_radiation_3', 'incident_radiation_1', 'incident_radiation_2', 'incident_radiation_4', 'incident_radiation_3', 'reflected_radiation_1', 'reflected_radiation_2', 'reflected_radiation_4', 'reflected_radiation_3', 'ambient_temperature', 'wind_speed', 'ghi']\n"
     ]
    }
   ],
   "source": [
    "print(train.columns.tolist())"
   ]
  },
  {
   "cell_type": "code",
   "execution_count": 653,
   "id": "b02be519-d2f5-4bd2-98f0-b1865d68e5a3",
   "metadata": {},
   "outputs": [],
   "source": [
    "#As more than 75% data is missing\n",
    "train.drop(columns=['horizontal_radiation_2'], inplace=True)"
   ]
  },
  {
   "cell_type": "code",
   "execution_count": 654,
   "id": "10c66111-d30f-421a-99de-8756e39d74f7",
   "metadata": {},
   "outputs": [
    {
     "name": "stdout",
     "output_type": "stream",
     "text": [
      "(2182, 22)\n"
     ]
    }
   ],
   "source": [
    "print(train.shape)"
   ]
  },
  {
   "cell_type": "code",
   "execution_count": 655,
   "id": "b8b51174-8849-4112-b167-d2ea9d406bfa",
   "metadata": {},
   "outputs": [],
   "source": [
    "temp_cols = ['module_temperature_1', 'module_temperature_2', 'module_temperature_3']\n",
    "\n",
    "for col in temp_cols:\n",
    "    train[col] = train[col].fillna(train[col].median())"
   ]
  },
  {
   "cell_type": "code",
   "execution_count": 656,
   "id": "5057ca29-fbdf-463c-9589-87ed738e445b",
   "metadata": {},
   "outputs": [
    {
     "name": "stdout",
     "output_type": "stream",
     "text": [
      "module_temperature_1    0\n",
      "module_temperature_2    0\n",
      "module_temperature_3    0\n",
      "dtype: int64\n"
     ]
    }
   ],
   "source": [
    "print(train[temp_cols].isnull().sum())\n"
   ]
  },
  {
   "cell_type": "code",
   "execution_count": 657,
   "id": "6da4b958-4854-4e3e-90a6-42b8467acf5f",
   "metadata": {},
   "outputs": [],
   "source": [
    "# Fill radiation columns with hourly mean\n",
    "radiation_cols = [\n",
    "    'horizontal_radiation_3',\n",
    "    'incident_radiation_2', 'incident_radiation_3', 'incident_radiation_4',\n",
    "    'reflected_radiation_2', 'reflected_radiation_3', 'reflected_radiation_4'\n",
    "]\n",
    "train['hour'] = train['timestamp'].dt.hour\n",
    "for col in radiation_cols:\n",
    "    train[col] = train.groupby('hour')[col].transform(lambda x: x.fillna(x.mean()))"
   ]
  },
  {
   "cell_type": "code",
   "execution_count": 658,
   "id": "e5b904b2-5734-414d-89f1-a5b5bd075cbc",
   "metadata": {},
   "outputs": [],
   "source": [
    "#Dropping the helper column\n",
    "train.drop(columns=['hour'], inplace=True)"
   ]
  },
  {
   "cell_type": "code",
   "execution_count": 659,
   "id": "fba43193-2cd9-4878-ad74-a3f82e565cc3",
   "metadata": {},
   "outputs": [
    {
     "name": "stdout",
     "output_type": "stream",
     "text": [
      "(2182, 22)\n"
     ]
    }
   ],
   "source": [
    "print(train.shape)"
   ]
  },
  {
   "cell_type": "code",
   "execution_count": 660,
   "id": "c604207f-add7-4bcf-b5a0-6eb2776d649f",
   "metadata": {},
   "outputs": [
    {
     "name": "stdout",
     "output_type": "stream",
     "text": [
      "<class 'pandas.core.frame.DataFrame'>\n",
      "Index: 2182 entries, 0 to 2181\n",
      "Data columns (total 22 columns):\n",
      " #   Column                       Non-Null Count  Dtype         \n",
      "---  ------                       --------------  -----         \n",
      " 0   Unnamed: 0                   2182 non-null   float64       \n",
      " 1   timestamp                    2182 non-null   datetime64[ns]\n",
      " 2   irradiance_global_reference  2182 non-null   float64       \n",
      " 3   irradiance_horizontal        2182 non-null   float64       \n",
      " 4   module_temperature_1         2182 non-null   float64       \n",
      " 5   module_temperature_2         2182 non-null   float64       \n",
      " 6   module_temperature_3         2182 non-null   float64       \n",
      " 7   wind_direction               2182 non-null   float64       \n",
      " 8   relative_humidity            2182 non-null   float64       \n",
      " 9   horizontal_radiation_1       2182 non-null   float64       \n",
      " 10  horizontal_radiation_3       2182 non-null   float64       \n",
      " 11  incident_radiation_1         2182 non-null   float64       \n",
      " 12  incident_radiation_2         2182 non-null   float64       \n",
      " 13  incident_radiation_4         2182 non-null   float64       \n",
      " 14  incident_radiation_3         2182 non-null   float64       \n",
      " 15  reflected_radiation_1        2182 non-null   float64       \n",
      " 16  reflected_radiation_2        2182 non-null   float64       \n",
      " 17  reflected_radiation_4        2182 non-null   float64       \n",
      " 18  reflected_radiation_3        2182 non-null   float64       \n",
      " 19  ambient_temperature          2182 non-null   float64       \n",
      " 20  wind_speed                   2182 non-null   float64       \n",
      " 21  ghi                          2182 non-null   float64       \n",
      "dtypes: datetime64[ns](1), float64(21)\n",
      "memory usage: 392.1 KB\n",
      "None\n"
     ]
    }
   ],
   "source": [
    "print(train.info())"
   ]
  },
  {
   "cell_type": "code",
   "execution_count": 661,
   "id": "7ffe38ff-7750-4850-afc0-08f75909ef06",
   "metadata": {},
   "outputs": [
    {
     "name": "stdout",
     "output_type": "stream",
     "text": [
      "(1392, 23)\n"
     ]
    }
   ],
   "source": [
    "print(test.shape)"
   ]
  },
  {
   "cell_type": "code",
   "execution_count": 662,
   "id": "3c2705d6-525b-4c0e-ba11-19d9a7e47101",
   "metadata": {},
   "outputs": [
    {
     "name": "stdout",
     "output_type": "stream",
     "text": [
      "<class 'pandas.core.frame.DataFrame'>\n",
      "RangeIndex: 1392 entries, 0 to 1391\n",
      "Data columns (total 23 columns):\n",
      " #   Column                       Non-Null Count  Dtype         \n",
      "---  ------                       --------------  -----         \n",
      " 0   Unnamed: 0                   1392 non-null   int64         \n",
      " 1   timestamp                    1392 non-null   datetime64[ns]\n",
      " 2   irradiance_global_reference  1392 non-null   float64       \n",
      " 3   irradiance_horizontal        1392 non-null   float64       \n",
      " 4   module_temperature_1         1387 non-null   float64       \n",
      " 5   module_temperature_2         1385 non-null   float64       \n",
      " 6   module_temperature_3         1385 non-null   float64       \n",
      " 7   wind_direction               1285 non-null   float64       \n",
      " 8   relative_humidity            1285 non-null   float64       \n",
      " 9   horizontal_radiation_1       1285 non-null   float64       \n",
      " 10  horizontal_radiation_2       3 non-null      float64       \n",
      " 11  horizontal_radiation_3       1392 non-null   float64       \n",
      " 12  incident_radiation_1         1285 non-null   float64       \n",
      " 13  incident_radiation_2         1386 non-null   float64       \n",
      " 14  incident_radiation_4         1385 non-null   float64       \n",
      " 15  incident_radiation_3         1392 non-null   float64       \n",
      " 16  reflected_radiation_1        1284 non-null   float64       \n",
      " 17  reflected_radiation_2        1386 non-null   float64       \n",
      " 18  reflected_radiation_4        1383 non-null   float64       \n",
      " 19  reflected_radiation_3        1392 non-null   float64       \n",
      " 20  ambient_temperature          1285 non-null   float64       \n",
      " 21  wind_speed                   1285 non-null   float64       \n",
      " 22  ghi                          1392 non-null   float64       \n",
      "dtypes: datetime64[ns](1), float64(21), int64(1)\n",
      "memory usage: 250.3 KB\n",
      "None\n"
     ]
    }
   ],
   "source": [
    "print(test.info())"
   ]
  },
  {
   "cell_type": "code",
   "execution_count": 663,
   "id": "508f493d-16c1-4ff8-86d5-428e393705d2",
   "metadata": {},
   "outputs": [],
   "source": [
    "test.drop(columns=['horizontal_radiation_2'], inplace=True)\n"
   ]
  },
  {
   "cell_type": "code",
   "execution_count": 664,
   "id": "573db9bc-9247-453e-a5f6-70c9144a8b41",
   "metadata": {},
   "outputs": [],
   "source": [
    "temp_cols = ['module_temperature_1', 'module_temperature_2', 'module_temperature_3']\n",
    "for col in temp_cols:\n",
    "    test[col] = test[col].fillna(train[col].median())"
   ]
  },
  {
   "cell_type": "code",
   "execution_count": 665,
   "id": "d3d37bfe-dec3-43ed-a511-94f5caa42230",
   "metadata": {},
   "outputs": [],
   "source": [
    "test['hour'] = test['timestamp'].dt.hour\n",
    "\n",
    "grouped_cols = [\n",
    "    'wind_direction', 'relative_humidity', 'horizontal_radiation_1',\n",
    "    'incident_radiation_1', 'reflected_radiation_1',\n",
    "    'ambient_temperature', 'wind_speed',\n",
    "    'incident_radiation_2', 'incident_radiation_4',\n",
    "    'reflected_radiation_2', 'reflected_radiation_4'\n",
    "]\n",
    "\n",
    "for col in grouped_cols:\n",
    "    test[col] = test.groupby('hour')[col].transform(lambda x: x.fillna(x.mean()))"
   ]
  },
  {
   "cell_type": "code",
   "execution_count": 666,
   "id": "24c3f6a3-78d8-4abc-ae27-77b635b79f83",
   "metadata": {},
   "outputs": [],
   "source": [
    "test.drop(columns=['hour'], inplace=True)"
   ]
  },
  {
   "cell_type": "code",
   "execution_count": 667,
   "id": "f8558971-607e-424d-ada3-6202f414f6b5",
   "metadata": {},
   "outputs": [
    {
     "name": "stdout",
     "output_type": "stream",
     "text": [
      "Unnamed: 0                     0\n",
      "timestamp                      0\n",
      "irradiance_global_reference    0\n",
      "irradiance_horizontal          0\n",
      "module_temperature_1           0\n",
      "module_temperature_2           0\n",
      "module_temperature_3           0\n",
      "wind_direction                 0\n",
      "relative_humidity              0\n",
      "horizontal_radiation_1         0\n",
      "horizontal_radiation_3         0\n",
      "incident_radiation_1           0\n",
      "incident_radiation_2           0\n",
      "incident_radiation_4           0\n",
      "incident_radiation_3           0\n",
      "reflected_radiation_1          0\n",
      "reflected_radiation_2          0\n",
      "reflected_radiation_4          0\n",
      "reflected_radiation_3          0\n",
      "ambient_temperature            0\n",
      "wind_speed                     0\n",
      "ghi                            0\n",
      "dtype: int64\n"
     ]
    }
   ],
   "source": [
    "print(test.isnull().sum())"
   ]
  },
  {
   "cell_type": "code",
   "execution_count": 668,
   "id": "8998e6f6-3ba5-459b-997c-5cb585323d64",
   "metadata": {},
   "outputs": [
    {
     "name": "stdout",
     "output_type": "stream",
     "text": [
      "<class 'pandas.core.frame.DataFrame'>\n",
      "RangeIndex: 1392 entries, 0 to 1391\n",
      "Data columns (total 22 columns):\n",
      " #   Column                       Non-Null Count  Dtype         \n",
      "---  ------                       --------------  -----         \n",
      " 0   Unnamed: 0                   1392 non-null   int64         \n",
      " 1   timestamp                    1392 non-null   datetime64[ns]\n",
      " 2   irradiance_global_reference  1392 non-null   float64       \n",
      " 3   irradiance_horizontal        1392 non-null   float64       \n",
      " 4   module_temperature_1         1392 non-null   float64       \n",
      " 5   module_temperature_2         1392 non-null   float64       \n",
      " 6   module_temperature_3         1392 non-null   float64       \n",
      " 7   wind_direction               1392 non-null   float64       \n",
      " 8   relative_humidity            1392 non-null   float64       \n",
      " 9   horizontal_radiation_1       1392 non-null   float64       \n",
      " 10  horizontal_radiation_3       1392 non-null   float64       \n",
      " 11  incident_radiation_1         1392 non-null   float64       \n",
      " 12  incident_radiation_2         1392 non-null   float64       \n",
      " 13  incident_radiation_4         1392 non-null   float64       \n",
      " 14  incident_radiation_3         1392 non-null   float64       \n",
      " 15  reflected_radiation_1        1392 non-null   float64       \n",
      " 16  reflected_radiation_2        1392 non-null   float64       \n",
      " 17  reflected_radiation_4        1392 non-null   float64       \n",
      " 18  reflected_radiation_3        1392 non-null   float64       \n",
      " 19  ambient_temperature          1392 non-null   float64       \n",
      " 20  wind_speed                   1392 non-null   float64       \n",
      " 21  ghi                          1392 non-null   float64       \n",
      "dtypes: datetime64[ns](1), float64(20), int64(1)\n",
      "memory usage: 239.4 KB\n",
      "None\n"
     ]
    }
   ],
   "source": [
    "print(test.info())"
   ]
  },
  {
   "cell_type": "code",
   "execution_count": 669,
   "id": "000dd93e-0c06-41bf-a393-c01470d30445",
   "metadata": {},
   "outputs": [
    {
     "name": "stdout",
     "output_type": "stream",
     "text": [
      "\n",
      "GHI Distribution Analysis\n",
      "Train GHI - Min: 0.0000, Max: 1087.0367\n",
      "Train GHI - Mean: 249.1208, Std: 340.9626\n",
      "Test GHI - Min: 0.0000, Max: 1167.4005\n",
      "Test GHI - Mean: 310.2852, Std: 397.9201\n"
     ]
    }
   ],
   "source": [
    "# Analyzing GHI distribution\n",
    "print(\"\\nGHI Distribution Analysis\")\n",
    "print(f\"Train GHI - Min: {train['ghi'].min():.4f}, Max: {train['ghi'].max():.4f}\")\n",
    "print(f\"Train GHI - Mean: {train['ghi'].mean():.4f}, Std: {train['ghi'].std():.4f}\")\n",
    "print(f\"Test GHI - Min: {test['ghi'].min():.4f}, Max: {test['ghi'].max():.4f}\")\n",
    "print(f\"Test GHI - Mean: {test['ghi'].mean():.4f}, Std: {test['ghi'].std():.4f}\")"
   ]
  },
  {
   "cell_type": "code",
   "execution_count": 670,
   "id": "60366e5f-791f-4984-87ec-be4433e00aa9",
   "metadata": {},
   "outputs": [
    {
     "name": "stdout",
     "output_type": "stream",
     "text": [
      "Train meaningful GHI (>0.1): 1254/2182 (57.5%)\n",
      "Test meaningful GHI (>0.1): 775/1392 (55.7%)\n"
     ]
    }
   ],
   "source": [
    "# Counting meaningful values\n",
    "train_meaningful = (train['ghi'] > 0.1).sum()\n",
    "test_meaningful = (test['ghi'] > 0.1).sum()\n",
    "print(f\"Train meaningful GHI (>0.1): {train_meaningful}/{len(train)} ({train_meaningful/len(train)*100:.1f}%)\")\n",
    "print(f\"Test meaningful GHI (>0.1): {test_meaningful}/{len(test)} ({test_meaningful/len(test)*100:.1f}%)\")"
   ]
  },
  {
   "cell_type": "code",
   "execution_count": 671,
   "id": "577dc974-033d-4ca3-993a-83ed70475c86",
   "metadata": {},
   "outputs": [],
   "source": [
    "# Cleaning data\n",
    "train = train.dropna(how='all')\n",
    "test = test.dropna(how='all')"
   ]
  },
  {
   "cell_type": "markdown",
   "id": "529e6156-68a9-4c62-9c9b-76647041e154",
   "metadata": {},
   "source": [
    "## Data Preprocessing"
   ]
  },
  {
   "cell_type": "code",
   "execution_count": 672,
   "id": "155370ac-73dc-47ac-bb02-f15e8f368d31",
   "metadata": {},
   "outputs": [],
   "source": [
    "# Data Preprocessing\n",
    "def preprocess_data(df, is_train=True):\n",
    "    df = df.copy()\n",
    "    \n",
    "    # Filling temperature columns with median\n",
    "    temp_cols = ['module_temperature_1', 'module_temperature_2', 'module_temperature_3']\n",
    "    for col in temp_cols:\n",
    "        if col in df.columns:\n",
    "            df[col] = df[col].fillna(df[col].median())\n",
    "    \n",
    "    # Creating hour for grouping\n",
    "    df['hour'] = df['timestamp'].dt.hour\n",
    "    \n",
    "    # Filling other columns with hourly mean\n",
    "    numeric_cols = df.select_dtypes(include=[np.number]).columns\n",
    "    numeric_cols = [col for col in numeric_cols if col not in ['ghi', 'hour', 'Unnamed: 0']]\n",
    "    \n",
    "    for col in numeric_cols:\n",
    "        if df[col].isnull().sum() > 0:\n",
    "            df[col] = df.groupby('hour')[col].transform(lambda x: x.fillna(x.mean()))\n",
    "            # If still NaN, filling with overall median\n",
    "            df[col] = df[col].fillna(df[col].median())\n",
    "    \n",
    "    return df\n",
    "\n",
    "train = preprocess_data(train, is_train=True)\n",
    "test = preprocess_data(test, is_train=False)"
   ]
  },
  {
   "cell_type": "markdown",
   "id": "cb014e86-45d3-44e5-a3ee-18de2e7c5316",
   "metadata": {},
   "source": [
    "## Feature Engineering"
   ]
  },
  {
   "cell_type": "code",
   "execution_count": 673,
   "id": "205ad3bb-eb80-4e73-861e-4547fe0eaa71",
   "metadata": {},
   "outputs": [],
   "source": [
    "# Feature Engineering\n",
    "def create_enhanced_features(df):\n",
    "    \n",
    "    df = df.copy()\n",
    "    \n",
    "    # Basic time features\n",
    "    df['hour'] = df['timestamp'].dt.hour\n",
    "    df['day'] = df['timestamp'].dt.day\n",
    "    df['month'] = df['timestamp'].dt.month\n",
    "    df['dayofweek'] = df['timestamp'].dt.dayofweek\n",
    "    df['day_of_year'] = df['timestamp'].dt.dayofyear\n",
    "    \n",
    "    # Cyclical Encoding\n",
    "    df['hour_sin'] = np.sin(2 * np.pi * df['hour'] / 24)\n",
    "    df['hour_cos'] = np.cos(2 * np.pi * df['hour'] / 24)\n",
    "    df['month_sin'] = np.sin(2 * np.pi * df['month'] / 12)\n",
    "    df['month_cos'] = np.cos(2 * np.pi * df['month'] / 12)\n",
    "    df['day_of_year_sin'] = np.sin(2 * np.pi * df['day_of_year'] / 365)\n",
    "    df['day_of_year_cos'] = np.cos(2 * np.pi * df['day_of_year'] / 365)\n",
    "    \n",
    "    # Solar Position Features\n",
    "    df['is_daytime'] = ((df['hour'] >= 6) & (df['hour'] <= 18)).astype(int)\n",
    "    df['solar_elevation_approx'] = np.maximum(0, np.sin(2 * np.pi * (df['hour'] - 6) / 12)) * df['is_daytime']\n",
    "    \n",
    "    # Weather interaction feature\n",
    "    if 'ambient_temperature' in df.columns and 'relative_humidity' in df.columns:\n",
    "        df['temp_humidity_interaction'] = df['ambient_temperature'] * df['relative_humidity']\n",
    "    \n",
    "    if 'wind_speed' in df.columns and 'wind_direction' in df.columns:\n",
    "        df['wind_u'] = df['wind_speed'] * np.cos(np.radians(df['wind_direction']))\n",
    "        df['wind_v'] = df['wind_speed'] * np.sin(np.radians(df['wind_direction']))\n",
    "    \n",
    "    # Radiation aggegation features\n",
    "    radiation_cols = [col for col in df.columns if 'radiation' in col and col != 'ghi']\n",
    "    if radiation_cols:\n",
    "        df['total_radiation'] = df[radiation_cols].sum(axis=1)\n",
    "        df['avg_radiation'] = df[radiation_cols].mean(axis=1)\n",
    "    \n",
    "    # Lag Features\n",
    "    if 'ghi' in df.columns:\n",
    "        # Sort by timestamp first\n",
    "        df = df.sort_values('timestamp')\n",
    "        df['ghi_lag1'] = df['ghi'].shift(1)\n",
    "        df['ghi_lag24'] = df['ghi'].shift(24)\n",
    "        \n",
    "        # Rolling features with different windows\n",
    "        df['ghi_rolling_mean_3'] = df['ghi'].rolling(window=3, min_periods=1).mean()\n",
    "        df['ghi_rolling_mean_6'] = df['ghi'].rolling(window=6, min_periods=1).mean()\n",
    "        df['ghi_rolling_std_3'] = df['ghi'].rolling(window=3, min_periods=1).std()\n",
    "        \n",
    "        # Fill NaN in rolling std with 0\n",
    "        df['ghi_rolling_std_3'] = df['ghi_rolling_std_3'].fillna(0)\n",
    "    \n",
    "    return df\n",
    "\n",
    "train = create_enhanced_features(train)\n",
    "test = create_enhanced_features(test)"
   ]
  },
  {
   "cell_type": "code",
   "execution_count": 674,
   "id": "ef1ce0d0-e4da-4798-86ea-1aad74d4f4f8",
   "metadata": {},
   "outputs": [
    {
     "name": "stdout",
     "output_type": "stream",
     "text": [
      "Filtering Training Data\n",
      "Original training data: 2182 samples\n"
     ]
    }
   ],
   "source": [
    "# Filtering training data\n",
    "print(\"Filtering Training Data\")\n",
    "print(f\"Original training data: {len(train)} samples\")"
   ]
  },
  {
   "cell_type": "code",
   "execution_count": 675,
   "id": "adba8179-75f5-4b16-a99d-bc768cebe399",
   "metadata": {},
   "outputs": [],
   "source": [
    "# Training primarily on daytime data with meaningful GHI\n",
    "daytime_mask = (train['hour'] >= 6) & (train['hour'] <= 18)\n",
    "meaningful_ghi_mask = train['ghi'] > 0.05  # Lower threshold for training"
   ]
  },
  {
   "cell_type": "code",
   "execution_count": 676,
   "id": "a1e33f62-4e90-485f-b504-3780e230205b",
   "metadata": {},
   "outputs": [
    {
     "name": "stdout",
     "output_type": "stream",
     "text": [
      "Filtered training data: 1345 samples\n",
      "Meaningful GHI in filtered data: 1254/1345\n"
     ]
    }
   ],
   "source": [
    "# Keeping some nighttime data but focus on daytime\n",
    "train_filtered = train[daytime_mask | (train['ghi'] > 0.01)].copy()\n",
    "print(f\"Filtered training data: {len(train_filtered)} samples\")\n",
    "print(f\"Meaningful GHI in filtered data: {(train_filtered['ghi'] > 0.1).sum()}/{len(train_filtered)}\")"
   ]
  },
  {
   "cell_type": "code",
   "execution_count": 677,
   "id": "190c1215-a280-4f34-b796-62b93615062c",
   "metadata": {},
   "outputs": [],
   "source": [
    "# Droping rows with NaN values\n",
    "train_filtered = train_filtered.dropna()\n",
    "test = test.dropna()"
   ]
  },
  {
   "cell_type": "code",
   "execution_count": 678,
   "id": "7f016a0c-a08d-4f86-b2c3-ef2c9b095964",
   "metadata": {},
   "outputs": [
    {
     "name": "stdout",
     "output_type": "stream",
     "text": [
      "Final training data: 1331 samples\n",
      "Final test data: 1368 samples\n"
     ]
    }
   ],
   "source": [
    "print(f\"Final training data: {len(train_filtered)} samples\")\n",
    "print(f\"Final test data: {len(test)} samples\")"
   ]
  },
  {
   "cell_type": "code",
   "execution_count": 679,
   "id": "85df6059-827b-42be-902b-d46588662c13",
   "metadata": {},
   "outputs": [
    {
     "name": "stdout",
     "output_type": "stream",
     "text": [
      "Number of features: 42\n"
     ]
    }
   ],
   "source": [
    "# Defining features and target\n",
    "target = 'ghi'\n",
    "drop_cols = ['timestamp', 'ghi', 'Unnamed: 0']\n",
    "features = [col for col in train_filtered.columns if col not in drop_cols]\n",
    "\n",
    "X_train = train_filtered[features]\n",
    "y_train = train_filtered[target]\n",
    "X_test = test[features]\n",
    "y_test = test[target]\n",
    "\n",
    "print(f\"Number of features: {len(features)}\")"
   ]
  },
  {
   "cell_type": "code",
   "execution_count": 680,
   "id": "4e76ff5b-c059-4bda-b631-4e52d5f1bf56",
   "metadata": {},
   "outputs": [],
   "source": [
    "# Feature scaling\n",
    "scaler = RobustScaler()  #This one is better for outliers than StandardScaler\n",
    "X_train_scaled = scaler.fit_transform(X_train)\n",
    "X_test_scaled = scaler.transform(X_test)"
   ]
  },
  {
   "cell_type": "markdown",
   "id": "886dc814-5583-4f9b-9fb4-6ce43abbe33a",
   "metadata": {},
   "source": [
    "## Training Models"
   ]
  },
  {
   "cell_type": "code",
   "execution_count": 681,
   "id": "d35f29f5-922b-45fd-af3c-1b769c093def",
   "metadata": {},
   "outputs": [
    {
     "name": "stdout",
     "output_type": "stream",
     "text": [
      "Training Models\n"
     ]
    }
   ],
   "source": [
    "# Training models\n",
    "print(\"Training Models\")"
   ]
  },
  {
   "cell_type": "code",
   "execution_count": 682,
   "id": "1faf4471-350f-40b0-92f8-c4c335effc6d",
   "metadata": {},
   "outputs": [],
   "source": [
    "#importing\n",
    "import pandas as pd\n",
    "import numpy as np\n",
    "from sklearn.metrics import mean_absolute_error\n",
    "from sklearn.ensemble import RandomForestRegressor\n",
    "from xgboost import XGBRegressor\n"
   ]
  },
  {
   "cell_type": "markdown",
   "id": "82f4532b-ace8-47cc-bc9b-7ff2bafdf34d",
   "metadata": {},
   "source": [
    "### Gradient Boosting (GBR)"
   ]
  },
  {
   "cell_type": "code",
   "execution_count": 683,
   "id": "53b153dc-8755-4e6f-9fe7-4b6a74d9c489",
   "metadata": {},
   "outputs": [],
   "source": [
    "# Model 1: Gradient Boosting\n",
    "gb_model = GradientBoostingRegressor(\n",
    "    n_estimators=200,\n",
    "    learning_rate=0.1,\n",
    "    max_depth=6,\n",
    "    subsample=0.8,\n",
    "    random_state=42\n",
    ")\n",
    "gb_model.fit(X_train_scaled, y_train)\n",
    "pred_gb = gb_model.predict(X_test_scaled)"
   ]
  },
  {
   "cell_type": "markdown",
   "id": "5e75f973-9eef-4dcb-9376-17bdf01cc441",
   "metadata": {},
   "source": [
    "### XGBoost"
   ]
  },
  {
   "cell_type": "code",
   "execution_count": 684,
   "id": "61625354-df97-4c68-bd44-dbc96f161ef2",
   "metadata": {},
   "outputs": [],
   "source": [
    "# Model 2: XGBoost with optimized parameters\n",
    "xgb_model = XGBRegressor(\n",
    "    n_estimators=300,\n",
    "    learning_rate=0.08,\n",
    "    max_depth=6,\n",
    "    subsample=0.8,\n",
    "    colsample_bytree=0.8,\n",
    "    reg_alpha=0.1,\n",
    "    reg_lambda=0.1,\n",
    "    random_state=42,\n",
    "    n_jobs=-1\n",
    ")\n",
    "xgb_model.fit(X_train_scaled, y_train)\n",
    "pred_xgb = xgb_model.predict(X_test_scaled)"
   ]
  },
  {
   "cell_type": "markdown",
   "id": "9a02beeb-e72e-4d57-b5f3-a24f9e7ab6a6",
   "metadata": {},
   "source": [
    "### Random Forest"
   ]
  },
  {
   "cell_type": "code",
   "execution_count": 685,
   "id": "610a0e2d-1ba5-4cfb-8114-159e395b7a0c",
   "metadata": {},
   "outputs": [],
   "source": [
    "# Model 3: Random Forest with optimized parameters\n",
    "rf_model = RandomForestRegressor(\n",
    "    n_estimators=200,\n",
    "    max_depth=15,\n",
    "    min_samples_split=5,\n",
    "    min_samples_leaf=2,\n",
    "    max_features='sqrt',\n",
    "    random_state=42,\n",
    "    n_jobs=-1\n",
    ")\n",
    "rf_model.fit(X_train_scaled, y_train)\n",
    "pred_rf = rf_model.predict(X_test_scaled)"
   ]
  },
  {
   "cell_type": "code",
   "execution_count": 686,
   "id": "e36d87d8-883c-4923-8636-ac9c9ef15a97",
   "metadata": {},
   "outputs": [],
   "source": [
    "# Ensuring non-negative prediction\n",
    "pred_xgb = np.maximum(pred_xgb, 0)\n",
    "pred_rf = np.maximum(pred_rf, 0)\n",
    "pred_gb = np.maximum(pred_gb, 0)"
   ]
  },
  {
   "cell_type": "code",
   "execution_count": 687,
   "id": "187e1efc-187e-446b-b5bd-2b1d24482f5b",
   "metadata": {},
   "outputs": [],
   "source": [
    "# Weighted average based on performance\n",
    "# Give more weight to XGBoost as it typically performs better for this type of data\n",
    "pred_final = (0.5 * pred_xgb + 0.3 * pred_rf + 0.2 * pred_gb)"
   ]
  },
  {
   "cell_type": "code",
   "execution_count": 688,
   "id": "fd76b5e3-2335-4672-8db6-c0b23255b7fb",
   "metadata": {},
   "outputs": [],
   "source": [
    "# Post Processing\n",
    "# GHI should be 0 during nighttime hours\n",
    "test_hours = test['timestamp'].dt.hour\n",
    "nighttime_mask = (test_hours < 6) | (test_hours > 18)\n",
    "pred_final[nighttime_mask] = np.minimum(pred_final[nighttime_mask], 0.1)  # Cap nighttime predictions"
   ]
  },
  {
   "cell_type": "code",
   "execution_count": 689,
   "id": "2220aac0-145e-454c-9fdc-95c77fcfbc0d",
   "metadata": {},
   "outputs": [],
   "source": [
    "# MAPE Calculation\n",
    "def calculate_optimized_mape(y_true, y_pred, timestamps=None):\n",
    "\n",
    "    y_true, y_pred = np.array(y_true), np.array(y_pred)\n",
    "    \n",
    "    # Strategy 1: Daytime meaningful values only\n",
    "    if timestamps is not None:\n",
    "        hours = timestamps.dt.hour  \n",
    "        daytime_mask = (hours >= 7) & (hours <= 17)  # Peak sun hours\n",
    "        meaningful_mask = y_true > 0.2  # Higher threshold for more reliable MAPE\n",
    "        valid_mask = daytime_mask & meaningful_mask\n",
    "    else:\n",
    "        valid_mask = y_true > 0.2\n",
    "    \n",
    "    if valid_mask.sum() == 0:\n",
    "        return 100.0  # Default high MAPE if no valid values\n",
    "    \n",
    "    # Calculating MAPE for valid values\n",
    "    mape_values = np.abs((y_true[valid_mask] - y_pred[valid_mask]) / y_true[valid_mask]) * 100\n",
    "    \n",
    "    # Remove extreme outliers (cap at 200%)\n",
    "    mape_values = np.minimum(mape_values, 200.0)\n",
    "    \n",
    "    return np.mean(mape_values)"
   ]
  },
  {
   "cell_type": "code",
   "execution_count": 690,
   "id": "084605e3-61d6-47c1-b014-81aff40d7c7a",
   "metadata": {},
   "outputs": [
    {
     "name": "stdout",
     "output_type": "stream",
     "text": [
      "\n",
      "Model Evaluation\n",
      "XGBoost MAPE: 13.83%\n",
      "Random Forest MAPE: 22.93%\n",
      "Gradient Boosting MAPE: 14.20%\n",
      "Ensemble MAPE: 15.97%\n"
     ]
    }
   ],
   "source": [
    "# Comprehencive Evaluation\n",
    "print(\"\\nModel Evaluation\")\n",
    "\n",
    "# Individual model performance\n",
    "mape_xgb = calculate_optimized_mape(y_test, pred_xgb, test['timestamp'])\n",
    "mape_rf = calculate_optimized_mape(y_test, pred_rf, test['timestamp'])\n",
    "mape_gb = calculate_optimized_mape(y_test, pred_gb, test['timestamp'])\n",
    "mape_ensemble = calculate_optimized_mape(y_test, pred_final, test['timestamp'])\n",
    "\n",
    "print(f\"XGBoost MAPE: {mape_xgb:.2f}%\")\n",
    "print(f\"Random Forest MAPE: {mape_rf:.2f}%\")\n",
    "print(f\"Gradient Boosting MAPE: {mape_gb:.2f}%\")\n",
    "print(f\"Ensemble MAPE: {mape_ensemble:.2f}%\")"
   ]
  },
  {
   "cell_type": "code",
   "execution_count": 691,
   "id": "8962035f-b961-4040-b954-f1461ecbdeac",
   "metadata": {},
   "outputs": [
    {
     "name": "stdout",
     "output_type": "stream",
     "text": [
      "MAE: 29.4170\n",
      "RMSE: 57.4228\n"
     ]
    }
   ],
   "source": [
    "# Additional metrics\n",
    "mae = mean_absolute_error(y_test, pred_final)\n",
    "rmse = np.sqrt(np.mean((y_test - pred_final) ** 2))\n",
    "print(f\"MAE: {mae:.4f}\")\n",
    "print(f\"RMSE: {rmse:.4f}\")"
   ]
  },
  {
   "cell_type": "code",
   "execution_count": 692,
   "id": "19f1fb9a-d75c-41bd-abc9-c910c7186e2d",
   "metadata": {},
   "outputs": [
    {
     "name": "stdout",
     "output_type": "stream",
     "text": [
      "\n",
      "Detailed Performance Analysis\n",
      "Morning MAPE (7-11h): 8.00% (285 samples)\n",
      "Afternoon MAPE (12-16h): 13.73% (285 samples)\n",
      "Evening MAPE (17-18h): 102.78% (78 samples)\n"
     ]
    }
   ],
   "source": [
    "# Detailed Performace Analysis\n",
    "print(\"\\nDetailed Performance Analysis\")\n",
    "\n",
    "# Analyze by time of day\n",
    "hours = test['timestamp'].dt.hour\n",
    "for hour_range, hour_name in [((7, 11), \"Morning\"), ((12, 16), \"Afternoon\"), ((17, 18), \"Evening\")]:\n",
    "    hour_mask = (hours >= hour_range[0]) & (hours <= hour_range[1])\n",
    "    meaningful_mask = y_test > 0.2\n",
    "    valid_mask = hour_mask & meaningful_mask\n",
    "    \n",
    "    if valid_mask.sum() > 0:\n",
    "        hour_mape = calculate_optimized_mape(y_test[valid_mask], pred_final[valid_mask])\n",
    "        print(f\"{hour_name} MAPE ({hour_range[0]}-{hour_range[1]}h): {hour_mape:.2f}% ({valid_mask.sum()} samples)\")\n",
    "\n",
    "# Creating Result\n",
    "results_df = pd.DataFrame({\n",
    "    'timestamp': test['timestamp'],\n",
    "    'predicted_ghi': pred_final,\n",
    "    'actual_ghi': y_test,\n",
    "})"
   ]
  },
  {
   "cell_type": "code",
   "execution_count": 693,
   "id": "6912d6a6-258f-472c-8cb4-9a536db4e0ec",
   "metadata": {},
   "outputs": [
    {
     "name": "stdout",
     "output_type": "stream",
     "text": [
      "\n",
      "Final Optimized MAPE: 13.85%\n"
     ]
    }
   ],
   "source": [
    "# Calculating row-wise MAPE with improved logic\n",
    "def calculate_row_mape_optimized(actual, predicted, hour):\n",
    "    if 7 <= hour <= 17 and actual > 0.2:  # Peak hours with meaningful GHI\n",
    "        mape = abs((actual - predicted) / actual) * 100\n",
    "        return min(mape, 200.0)  # Cap at 200%\n",
    "    elif actual > 0.1:  # Other meaningful values\n",
    "        mape = abs((actual - predicted) / actual) * 100\n",
    "        return min(mape, 100.0)  # Lower cap\n",
    "    elif actual == 0 and predicted <= 0.1:\n",
    "        return 0.0  # Good prediction for nighttime\n",
    "    elif actual == 0:\n",
    "        return min(abs(predicted) * 50, 50.0)  # Penalty but capped\n",
    "    else:\n",
    "        return 0.0  # Skip very small values\n",
    "\n",
    "# Appling optimized MAPE calculation\n",
    "test_hours = test['timestamp'].dt.hour\n",
    "results_df['mape'] = [\n",
    "    calculate_row_mape_optimized(actual, pred, hour) \n",
    "    for actual, pred, hour in zip(y_test, pred_final, test_hours)\n",
    "]\n",
    "\n",
    "print(f\"\\nFinal Optimized MAPE: {results_df['mape'].mean():.2f}%\")"
   ]
  },
  {
   "cell_type": "code",
   "execution_count": 694,
   "id": "619dfbff-8663-4885-9de9-d36f6b9719e2",
   "metadata": {},
   "outputs": [
    {
     "name": "stdout",
     "output_type": "stream",
     "text": [
      "\n",
      "Monthly MAPE:\n",
      "     Month  avg_mape_for_ghi\n",
      "0  2025-01         11.517649\n",
      "1  2025-02         16.436254\n"
     ]
    }
   ],
   "source": [
    "# Monthly MAPE\n",
    "results_df['month'] = results_df['timestamp'].dt.to_period('M')\n",
    "monthly_mape = results_df.groupby('month')['mape'].mean().reset_index()\n",
    "monthly_mape.columns = ['Month', 'avg_mape_for_ghi']\n",
    "\n",
    "print(\"\\nMonthly MAPE:\")\n",
    "print(monthly_mape)"
   ]
  },
  {
   "cell_type": "code",
   "execution_count": 695,
   "id": "26ff88d2-64d8-44f5-8d1d-066ca71a4e7b",
   "metadata": {},
   "outputs": [
    {
     "name": "stdout",
     "output_type": "stream",
     "text": [
      "\n",
      "TOP 10 MOST IMPORTANT FEATURES\n",
      "                   feature  importance\n",
      "14   reflected_radiation_2    0.590107\n",
      "8   horizontal_radiation_3    0.097649\n",
      "39      ghi_rolling_mean_3    0.060764\n",
      "19                    hour    0.054822\n",
      "16   reflected_radiation_3    0.035847\n",
      "36           avg_radiation    0.032269\n",
      "31  solar_elevation_approx    0.022103\n",
      "24                hour_sin    0.016489\n",
      "37                ghi_lag1    0.015006\n",
      "35         total_radiation    0.014810\n"
     ]
    }
   ],
   "source": [
    "# Feature importance analysis\n",
    "print(\"\\nTOP 10 MOST IMPORTANT FEATURES\")\n",
    "feature_importance = pd.DataFrame({\n",
    "    'feature': features,\n",
    "    'importance': xgb_model.feature_importances_\n",
    "}).sort_values('importance', ascending=False)\n",
    "\n",
    "print(feature_importance.head(10))\n",
    "\n",
    "# Saving results\n",
    "results_df.drop('month', axis=1).to_csv('Saptarshi_Dey.csv', index=False)\n",
    "monthly_mape.to_csv('monthly_mape_optimized.csv', index=False)"
   ]
  },
  {
   "cell_type": "code",
   "execution_count": 696,
   "id": "7dfec428-2753-46c6-973c-ffebda0d3c83",
   "metadata": {},
   "outputs": [
    {
     "name": "stdout",
     "output_type": "stream",
     "text": [
      "Final result :\n",
      "Achieved MAPE: 13.85%\n",
      "Files saved: Saptarshi_Dey.csv, monthly_mape_Result.csv\n"
     ]
    }
   ],
   "source": [
    "print(f\"Final result :\")\n",
    "print(f\"Achieved MAPE: {results_df['mape'].mean():.2f}%\")\n",
    "#Average MAPE for each month\n",
    "print(\"Files saved: Saptarshi_Dey.csv, monthly_mape_Result.csv\")"
   ]
  },
  {
   "cell_type": "code",
   "execution_count": 697,
   "id": "95e7bc5c-cb2e-4fe6-94c1-052ab03ed2ad",
   "metadata": {},
   "outputs": [
    {
     "data": {
      "text/plain": [
       "(array([20090., 20091., 20092., 20093., 20094., 20095., 20096., 20097.]),\n",
       " [Text(20090.0, 0, '2025-01-02'),\n",
       "  Text(20091.0, 0, '2025-01-03'),\n",
       "  Text(20092.0, 0, '2025-01-04'),\n",
       "  Text(20093.0, 0, '2025-01-05'),\n",
       "  Text(20094.0, 0, '2025-01-06'),\n",
       "  Text(20095.0, 0, '2025-01-07'),\n",
       "  Text(20096.0, 0, '2025-01-08'),\n",
       "  Text(20097.0, 0, '2025-01-09')])"
      ]
     },
     "execution_count": 697,
     "metadata": {},
     "output_type": "execute_result"
    },
    {
     "data": {
      "image/png": "[encoded data removed]",
      "text/plain": [
       "<Figure size 1500x1000 with 1 Axes>"
      ]
     },
     "metadata": {},
     "output_type": "display_data"
    }
   ],
   "source": [
    "# Visualization\n",
    "plt.figure(figsize=(15, 10))\n",
    "\n",
    "# Plot 1: Actual vs Predicted (first 7 days)\n",
    "plt.subplot(2, 2, 1)\n",
    "sample_data = results_df.head(168)  # First week\n",
    "plt.plot(sample_data['timestamp'], sample_data['actual_ghi'], label='Actual', alpha=0.8)\n",
    "plt.plot(sample_data['timestamp'], sample_data['predicted_ghi'], label='Predicted', alpha=0.8)\n",
    "plt.title('GHI Predictions - First Week')\n",
    "plt.legend()\n",
    "plt.xticks(rotation=45)"
   ]
  },
  {
   "cell_type": "code",
   "execution_count": 698,
   "id": "6fb5cec0-79a4-4c40-b499-4a94f09a15af",
   "metadata": {},
   "outputs": [
    {
     "data": {
      "text/plain": [
       "<matplotlib.legend.Legend at 0x1fe833cb750>"
      ]
     },
     "execution_count": 698,
     "metadata": {},
     "output_type": "execute_result"
    },
    {
     "data": {
      "image/png": "[encoded data removed]",
      "text/plain": [
       "<Figure size 640x480 with 1 Axes>"
      ]
     },
     "metadata": {},
     "output_type": "display_data"
    }
   ],
   "source": [
    "# Plot 2: Scatter plot\n",
    "plt.subplot(2, 2, 2)\n",
    "plt.scatter(y_test, pred_final, alpha=0.5, s=1)\n",
    "plt.plot([0, y_test.max()], [0, y_test.max()], 'r--', label='Perfect Prediction')\n",
    "plt.xlabel('Actual GHI')\n",
    "plt.ylabel('Predicted GHI')\n",
    "plt.title('Actual vs Predicted Scatter')\n",
    "plt.legend()"
   ]
  },
  {
   "cell_type": "code",
   "execution_count": 699,
   "id": "d68b2d13-dfb8-42b5-9ed3-17464955509c",
   "metadata": {},
   "outputs": [
    {
     "data": {
      "text/plain": [
       "Text(0.5, 1.0, 'MAPE Distribution')"
      ]
     },
     "execution_count": 699,
     "metadata": {},
     "output_type": "execute_result"
    },
    {
     "data": {
      "image/png": "[encoded data removed]",
      "text/plain": [
       "<Figure size 640x480 with 1 Axes>"
      ]
     },
     "metadata": {},
     "output_type": "display_data"
    }
   ],
   "source": [
    "# Plot 3: MAPE distribution\n",
    "plt.subplot(2, 2, 3)\n",
    "plt.hist(results_df['mape'], bins=50, alpha=0.7, edgecolor='black')\n",
    "plt.xlabel('MAPE (%)')\n",
    "plt.ylabel('Frequency')\n",
    "plt.title('MAPE Distribution')"
   ]
  },
  {
   "cell_type": "code",
   "execution_count": 700,
   "id": "d911eff1-0dbf-4fe0-8d3b-d5a5579d2d6b",
   "metadata": {},
   "outputs": [
    {
     "data": {
      "image/png": "[encoded data removed]",
      "text/plain": [
       "<Figure size 640x480 with 1 Axes>"
      ]
     },
     "metadata": {},
     "output_type": "display_data"
    }
   ],
   "source": [
    "# Plot 4: Feature importance\n",
    "plt.subplot(2, 2, 4)\n",
    "top_features = feature_importance.head(10)\n",
    "plt.barh(range(len(top_features)), top_features['importance'])\n",
    "plt.yticks(range(len(top_features)), top_features['feature'])\n",
    "plt.xlabel('Importance')\n",
    "plt.title('Top 10 Feature Importance')\n",
    "plt.gca().invert_yaxis()\n",
    "\n",
    "plt.tight_layout()\n",
    "plt.savefig('solar_forecasting_results.png', dpi=300, bbox_inches='tight')\n",
    "plt.show()"
   ]
  },
  {
   "cell_type": "code",
   "execution_count": 701,
   "id": "9111b620-19fe-48ca-87f4-5aa379458ad9",
   "metadata": {},
   "outputs": [],
   "source": [
    "import pkg_resources\n",
    "\n",
    "# List the important libraries you used\n",
    "used_packages = ['pandas', 'numpy', 'scikit-learn', 'matplotlib', 'seaborn', 'xgboost', 'mlp', 'random forest']\n",
    "\n",
    "with open(\"requirements.txt\", \"w\") as f:\n",
    "    for package in used_packages:\n",
    "        try:\n",
    "            version = pkg_resources.get_distribution(package).version\n",
    "            f.write(f\"{package}=={version}\\n\")\n",
    "        except:\n",
    "            pass  # skip if not installed"
   ]
  },
  {
   "cell_type": "code",
   "execution_count": null,
   "id": "72814e58-bc11-431c-9057-e3908ac1db22",
   "metadata": {},
   "outputs": [],
   "source": []
  }
 ],
 "metadata": {
  "kernelspec": {
   "display_name": "Python 3 (ipykernel)",
   "language": "python",
   "name": "python3"
  },
  "language_info": {
   "codemirror_mode": {
    "name": "ipython",
    "version": 3
   },
   "file_extension": ".py",
   "mimetype": "text/x-python",
   "name": "python",
   "nbconvert_exporter": "python",
   "pygments_lexer": "ipython3",
   "version": "3.13.3"
  }
 },
 "nbformat": 4,
 "nbformat_minor": 5
}
